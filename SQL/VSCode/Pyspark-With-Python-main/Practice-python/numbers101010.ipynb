{
 "cells": [
  {
   "cell_type": "code",
   "execution_count": 3,
   "metadata": {},
   "outputs": [
    {
     "name": "stdout",
     "output_type": "stream",
     "text": [
      "[0, 0, 0, 1, 1, 1]\n"
     ]
    }
   ],
   "source": [
    "#Doing in ascending order\n",
    "l1 = [1,0,1,0,1,0]\n",
    "for i in range(0,len(l1)):\n",
    "    for j in range(0,len(l1)):\n",
    "        if(l1[i]<=l1[j]):\n",
    "            temp = l1[i]\n",
    "            l1[i] = l1[j]\n",
    "            l1[j] = temp\n",
    "print(l1)             \n"
   ]
  },
  {
   "cell_type": "code",
   "execution_count": 4,
   "metadata": {},
   "outputs": [
    {
     "name": "stdout",
     "output_type": "stream",
     "text": [
      "[1, 1, 1, 0, 0, 0]\n"
     ]
    }
   ],
   "source": [
    "#Doing in descending order\n",
    "#Doing in ascending order\n",
    "l1 = [1,0,1,0,1,0]\n",
    "for i in range(0,len(l1)):\n",
    "    for j in range(0,len(l1)):\n",
    "        if(l1[i]>=l1[j]):\n",
    "            temp = l1[i]\n",
    "            l1[i] = l1[j]\n",
    "            l1[j] = temp\n",
    "print(l1)             \n"
   ]
  }
 ],
 "metadata": {
  "kernelspec": {
   "display_name": "Python 3",
   "language": "python",
   "name": "python3"
  },
  "language_info": {
   "codemirror_mode": {
    "name": "ipython",
    "version": 3
   },
   "file_extension": ".py",
   "mimetype": "text/x-python",
   "name": "python",
   "nbconvert_exporter": "python",
   "pygments_lexer": "ipython3",
   "version": "3.10.5"
  }
 },
 "nbformat": 4,
 "nbformat_minor": 2
}
